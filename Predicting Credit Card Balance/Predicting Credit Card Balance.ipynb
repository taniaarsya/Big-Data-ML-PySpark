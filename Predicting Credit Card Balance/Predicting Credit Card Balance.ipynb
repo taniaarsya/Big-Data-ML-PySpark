{
 "cells": [
  {
   "cell_type": "markdown",
   "metadata": {},
   "source": [
    "# 🏄 Predicting Credit Card Balance\n",
    "\n",
    "Suatu institusi perbankan multinasional ingin mempelajari faktor-faktor yang mempengaruhi **balance kartu kredit** pemegang kartunya menggunakan machine learning. Prediksi balance kartu kredit dapat memberikan manfaat yang signifikan bagi perbankan yaitu perbankan dapat meningkatkan kualitas layanan dan keuntungan. Analisis ini juga dapat membantu perusahaan untuk memahami perilaku pemegang kartu.\n"
   ]
  },
  {
   "cell_type": "markdown",
   "metadata": {},
   "source": [
    "## 1. Read data `credit card`\n",
    "\n",
    "Menggunakan konsep dasar dari linear regression dengan menggunakan data `credit_card.csv`, yaitu dataset yang terdiri dari informasi 310 pemegang kartu kredit di suatu perbankan."
   ]
  },
  {
   "cell_type": "code",
   "execution_count": 1,
   "metadata": {},
   "outputs": [
    {
     "name": "stdout",
     "output_type": "stream",
     "text": [
      "+------------+-----+------+-----+---+---------+------+-------+-------+----------------+-------+\n",
      "|      Income|Limit|Rating|Cards|Age|Education|Gender|Student|Married|       Ethnicity|Balance|\n",
      "+------------+-----+------+-----+---+---------+------+-------+-------+----------------+-------+\n",
      "|  221.741881| 3606|   283|    2| 34|       11|  Male|     No|    Yes|       Caucasian|    333|\n",
      "|11241.300625| 6645|   483|    3| 82|       15|Female|    Yes|    Yes|           Asian|    903|\n",
      "|10939.695649| 7075|   514|    4| 71|       11|  Male|     No|     No|           Asian|    580|\n",
      "|22178.357776| 9504|   681|    3| 36|       11|Female|     No|     No|           Asian|    964|\n",
      "| 3122.797924| 4897|   357|    2| 68|       16|  Male|     No|    Yes|       Caucasian|    331|\n",
      "|   6428.8324| 8047|   569|    4| 77|       10|  Male|     No|     No|       Caucasian|   1151|\n",
      "|  440.832016| 3388|   259|    2| 37|       12|Female|     No|     No|African American|    203|\n",
      "| 5099.102464| 7114|   512|    2| 87|        9|  Male|     No|     No|           Asian|    872|\n",
      "|  228.765625| 3300|   266|    5| 66|       13|Female|     No|     No|       Caucasian|    279|\n",
      "| 5049.665721| 6819|   491|    3| 41|       19|Female|    Yes|    Yes|African American|   1350|\n",
      "| 3980.979025| 8117|   589|    4| 30|       14|  Male|     No|    Yes|       Caucasian|   1407|\n",
      "| 6498.939456| 5308|   394|    1| 57|        7|Female|     No|    Yes|           Asian|    204|\n",
      "| 1908.117124| 6922|   511|    1| 49|        9|  Male|     No|    Yes|       Caucasian|   1081|\n",
      "|  366.492736| 3291|   269|    2| 75|       13|Female|     No|     No|African American|    148|\n",
      "| 1331.958016| 4378|   339|    3| 69|       15|Female|     No|    Yes|           Asian|    368|\n",
      "|   2457.1849| 6384|   448|    1| 28|        9|Female|     No|    Yes|           Asian|    891|\n",
      "| 1770.642241| 6626|   479|    2| 44|        9|  Male|     No|     No|           Asian|   1048|\n",
      "|      313.29| 2860|   235|    4| 63|       16|Female|     No|     No|           Asian|     89|\n",
      "| 1394.873104| 6378|   458|    1| 72|       17|Female|     No|     No|       Caucasian|    968|\n",
      "| 4099.456729| 5179|   398|    5| 48|        8|  Male|     No|    Yes|African American|    411|\n",
      "+------------+-----+------+-----+---+---------+------+-------+-------+----------------+-------+\n",
      "only showing top 20 rows\n",
      "\n"
     ]
    }
   ],
   "source": [
    "# code here\n",
    "from pyspark.sql import SparkSession\n",
    "from pyspark.sql.functions import *\n",
    "spark = SparkSession.builder.appName(\"Credit Card\").getOrCreate()\n",
    "\n",
    "credit_card = spark.read.csv('data_input/credit_card.csv', header=True, inferSchema=True)\n",
    "credit_card.show()"
   ]
  },
  {
   "cell_type": "markdown",
   "metadata": {
    "vscode": {
     "languageId": "plaintext"
    }
   },
   "source": [
    "**Deskripsi:**\n",
    "\n",
    "- `Income`: Besaran gaji nasabah per tahun (dalam $100)\n",
    "- `Limit` : Besaran kredit limit\n",
    "- `Rating` : Skor yang diberikan kepada individu berdasarkan kelayakan kreditnya. Semakin besar maka semakin baik\n",
    "- `Cards` : Jumlah banyaknya kartu kredit yang dimiliki oleh nasabah\n",
    "- `Age` : Usia nasabah\n",
    "- `Education` : Level/lamanya pendidikan yang ditempuh oleh nasabah\n",
    "- `Gender`: Jenis kelamin nasabah\n",
    "    - Male\n",
    "    - Female\n",
    "- `Student` : Apakah nasabah seorang pelajar atau bukan\n",
    "    - Yes -> Pelajar\n",
    "    - No -> Bukan pelajar\n",
    "- `Married`: Status pernikahan\n",
    "    - Yes -> Sudah menikah\n",
    "    - No -> Belum menikah\n",
    "- `Ethnicity`: Etnis nasabah\n",
    "    - African American\n",
    "    - Asian\n",
    "    - Caucasian\n",
    "- `Balance`: Rata-rata pengeluaran dalam 3 bulan menggunakan kartu kredit\n",
    "\n",
    "**Asumsi data**: Balance dihitung sebagai rata-rata transaksi selama periode penagihan/billing cycle (dalam hal ini 3 bulan). Sebagai contoh, jika seorang pemegang kartu mengeluarkan `$400`, `$500`, dan `$600` dalam 3 bulan, maka Balance akan dicatat sebagai `$500`."
   ]
  },
  {
   "cell_type": "markdown",
   "metadata": {},
   "source": [
    "## 2. Data Pre-processing\n",
    "\n",
    "#### 1️⃣ Check Data Stucture and Data Types"
   ]
  },
  {
   "cell_type": "code",
   "execution_count": 2,
   "metadata": {},
   "outputs": [
    {
     "name": "stdout",
     "output_type": "stream",
     "text": [
      "=== Data Awal ===\n",
      "+------------+-----+------+-----+---+---------+------+-------+-------+---------+-------+\n",
      "|      Income|Limit|Rating|Cards|Age|Education|Gender|Student|Married|Ethnicity|Balance|\n",
      "+------------+-----+------+-----+---+---------+------+-------+-------+---------+-------+\n",
      "|  221.741881| 3606|   283|    2| 34|       11|  Male|     No|    Yes|Caucasian|    333|\n",
      "|11241.300625| 6645|   483|    3| 82|       15|Female|    Yes|    Yes|    Asian|    903|\n",
      "|10939.695649| 7075|   514|    4| 71|       11|  Male|     No|     No|    Asian|    580|\n",
      "|22178.357776| 9504|   681|    3| 36|       11|Female|     No|     No|    Asian|    964|\n",
      "| 3122.797924| 4897|   357|    2| 68|       16|  Male|     No|    Yes|Caucasian|    331|\n",
      "+------------+-----+------+-----+---+---------+------+-------+-------+---------+-------+\n",
      "only showing top 5 rows\n",
      "\n",
      "\n",
      "Jumlah baris: 310, Jumlah kolom: 11\n",
      "\n",
      "=== Tipe Data ===\n",
      "root\n",
      " |-- Income: double (nullable = true)\n",
      " |-- Limit: integer (nullable = true)\n",
      " |-- Rating: integer (nullable = true)\n",
      " |-- Cards: integer (nullable = true)\n",
      " |-- Age: integer (nullable = true)\n",
      " |-- Education: integer (nullable = true)\n",
      " |-- Gender: string (nullable = true)\n",
      " |-- Student: string (nullable = true)\n",
      " |-- Married: string (nullable = true)\n",
      " |-- Ethnicity: string (nullable = true)\n",
      " |-- Balance: integer (nullable = true)\n",
      "\n"
     ]
    }
   ],
   "source": [
    "# code here\n",
    "from pyspark.sql import SparkSession\n",
    "from pyspark.sql.functions import col, mean, count\n",
    "from pyspark.ml.feature import VectorAssembler, StandardScaler, StringIndexer\n",
    "\n",
    "# 1. Inisialisasi Spark Session\n",
    "spark = SparkSession.builder.appName(\"Credit Card Preprocessing\").getOrCreate()\n",
    "\n",
    "# 2. Load Data\n",
    "credit_card = spark.read.csv('data_input/credit_card.csv', header=True, inferSchema=True)\n",
    "print(\"=== Data Awal ===\")\n",
    "credit_card.show(5)\n",
    "\n",
    "# 3. Cek jumlah baris dan kolom\n",
    "print(f\"\\nJumlah baris: {credit_card.count()}, Jumlah kolom: {len(credit_card.columns)}\")\n",
    "\n",
    "# 4. Cek tipe data\n",
    "print(\"\\n=== Tipe Data ===\")\n",
    "credit_card.printSchema()\n"
   ]
  },
  {
   "cell_type": "code",
   "execution_count": 3,
   "metadata": {},
   "outputs": [
    {
     "name": "stdout",
     "output_type": "stream",
     "text": [
      "\n",
      "=== Setelah Mengisi Missing Values ===\n",
      "+------------+-----+------+-----+---+---------+------+-------+-------+---------+-------+\n",
      "|      Income|Limit|Rating|Cards|Age|Education|Gender|Student|Married|Ethnicity|Balance|\n",
      "+------------+-----+------+-----+---+---------+------+-------+-------+---------+-------+\n",
      "|  221.741881| 3606|   283|    2| 34|       11|  Male|     No|    Yes|Caucasian|    333|\n",
      "|11241.300625| 6645|   483|    3| 82|       15|Female|    Yes|    Yes|    Asian|    903|\n",
      "|10939.695649| 7075|   514|    4| 71|       11|  Male|     No|     No|    Asian|    580|\n",
      "|22178.357776| 9504|   681|    3| 36|       11|Female|     No|     No|    Asian|    964|\n",
      "| 3122.797924| 4897|   357|    2| 68|       16|  Male|     No|    Yes|Caucasian|    331|\n",
      "+------------+-----+------+-----+---+---------+------+-------+-------+---------+-------+\n",
      "only showing top 5 rows\n",
      "\n"
     ]
    }
   ],
   "source": [
    "# 5. Menangani Missing Values (Mengisi dengan rata-rata untuk kolom numerik)\n",
    "numerical_cols = [c for c, t in credit_card.dtypes if t in ('int', 'double')]\n",
    "impute_values = credit_card.select([mean(col(c)).alias(c) for c in numerical_cols]).collect()[0].asDict()\n",
    "credit_card = credit_card.fillna(impute_values)\n",
    "print(\"\\n=== Setelah Mengisi Missing Values ===\")\n",
    "credit_card.show(5)"
   ]
  },
  {
   "cell_type": "code",
   "execution_count": 4,
   "metadata": {},
   "outputs": [
    {
     "name": "stdout",
     "output_type": "stream",
     "text": [
      "\n",
      "=== Setelah Menghapus Duplikat ===\n",
      "+-----------+-----+------+-----+---+---------+------+-------+-------+---------+-------+\n",
      "|     Income|Limit|Rating|Cards|Age|Education|Gender|Student|Married|Ethnicity|Balance|\n",
      "+-----------+-----+------+-----+---+---------+------+-------+-------+---------+-------+\n",
      "|  2860.1104| 4263|   317|    1| 83|       15|  Male|     No|     No|Caucasian|     99|\n",
      "| 239.506576| 2762|   215|    3| 60|       18|  Male|     No|     No|    Asian|     52|\n",
      "|6840.282436| 7506|   536|    2| 64|       13|Female|     No|    Yes|    Asian|    905|\n",
      "| 575.472121| 4523|   338|    4| 31|       15|  Male|     No|     No|Caucasian|    601|\n",
      "| 271.656324| 3326|   268|    4| 41|       15|  Male|     No|     No|Caucasian|    271|\n",
      "+-----------+-----+------+-----+---+---------+------+-------+-------+---------+-------+\n",
      "only showing top 5 rows\n",
      "\n"
     ]
    }
   ],
   "source": [
    "# 6. Menghapus duplikat\n",
    "credit_card = credit_card.dropDuplicates()\n",
    "print(\"\\n=== Setelah Menghapus Duplikat ===\")\n",
    "credit_card.show(5)"
   ]
  },
  {
   "cell_type": "code",
   "execution_count": 5,
   "metadata": {},
   "outputs": [
    {
     "name": "stdout",
     "output_type": "stream",
     "text": [
      "\n",
      "=== Setelah Encoding Kategori ===\n",
      "+------+-------+-------+---------+------------+-------------+-------------+---------------+\n",
      "|Gender|Student|Married|Ethnicity|Gender_index|Student_index|Married_index|Ethnicity_index|\n",
      "+------+-------+-------+---------+------------+-------------+-------------+---------------+\n",
      "|  Male|     No|     No|Caucasian|         1.0|          0.0|          1.0|            0.0|\n",
      "|  Male|     No|     No|    Asian|         1.0|          0.0|          1.0|            2.0|\n",
      "|Female|     No|    Yes|    Asian|         0.0|          0.0|          0.0|            2.0|\n",
      "|  Male|     No|     No|Caucasian|         1.0|          0.0|          1.0|            0.0|\n",
      "|  Male|     No|     No|Caucasian|         1.0|          0.0|          1.0|            0.0|\n",
      "+------+-------+-------+---------+------------+-------------+-------------+---------------+\n",
      "only showing top 5 rows\n",
      "\n"
     ]
    }
   ],
   "source": [
    "# 7. Konversi kategori ke numerik\n",
    "categorical_cols = [c for c, t in credit_card.dtypes if t == 'string']\n",
    "indexers = [StringIndexer(inputCol=c, outputCol=c+\"_index\").fit(credit_card) for c in categorical_cols]\n",
    "for indexer in indexers:\n",
    "    credit_card = indexer.transform(credit_card)\n",
    "\n",
    "print(\"\\n=== Setelah Encoding Kategori ===\")\n",
    "credit_card.select(categorical_cols + [c + \"_index\" for c in categorical_cols]).show(5)"
   ]
  },
  {
   "cell_type": "code",
   "execution_count": 6,
   "metadata": {},
   "outputs": [
    {
     "name": "stdout",
     "output_type": "stream",
     "text": [
      "\n",
      "=== Setelah Feature Scaling ===\n",
      "+-------------------------------------------------------------------------------------------------------------------------------------+\n",
      "|scaled_features                                                                                                                      |\n",
      "+-------------------------------------------------------------------------------------------------------------------------------------+\n",
      "|[0.4627479137980003,2.077028126787944,2.2976444010651633,0.7008983387394068,4.786125331728118,4.674492855256518,0.23918588712600325] |\n",
      "|[0.0387506609482285,1.3457076439569087,1.5583392625520824,2.1026950162182203,3.45984963739382,5.6093914263078215,0.1256329912176987] |\n",
      "|[1.1067147712368388,3.6570896363289487,3.884976021990308,1.4017966774788135,3.6905062798867414,4.0512271412223155,2.1864972510003327]|\n",
      "|[0.09310777774230687,2.2037058919685366,2.449854282523739,2.803593354957627,1.7875889793201403,4.674492855256518,1.4520274561891713] |\n",
      "|[0.04395228841552187,1.62050094996404,1.942488010995154,2.803593354957627,2.364230585552444,4.674492855256518,0.6547411657691604]    |\n",
      "+-------------------------------------------------------------------------------------------------------------------------------------+\n",
      "only showing top 5 rows\n",
      "\n"
     ]
    }
   ],
   "source": [
    "# 8. Feature Scaling (Standarisasi data numerik)\n",
    "assembler = VectorAssembler(inputCols=numerical_cols, outputCol=\"features\")\n",
    "credit_card = assembler.transform(credit_card)\n",
    "\n",
    "scaler = StandardScaler(inputCol=\"features\", outputCol=\"scaled_features\")\n",
    "scaler_model = scaler.fit(credit_card)\n",
    "credit_card = scaler_model.transform(credit_card)\n",
    "\n",
    "print(\"\\n=== Setelah Feature Scaling ===\")\n",
    "credit_card.select(\"scaled_features\").show(5, truncate=False)"
   ]
  },
  {
   "cell_type": "markdown",
   "metadata": {},
   "source": [
    "### 2️⃣ Dummy Variable Encoding\n",
    "\n",
    "- **List categorical columns**"
   ]
  },
  {
   "cell_type": "code",
   "execution_count": 7,
   "metadata": {},
   "outputs": [],
   "source": [
    "# code here\n",
    "from pyspark.ml.feature import StringIndexer, OneHotEncoder\n",
    "\n",
    "# List kategori\n",
    "categorical_cols = [\"Gender\", \"Student\", \"Married\", \"Ethnicity\"]\n",
    "\n",
    "# Cek apakah index columns sudah ada\n",
    "existing_columns = credit_card.columns"
   ]
  },
  {
   "cell_type": "markdown",
   "metadata": {},
   "source": [
    "- **Buat list kosong untuk tahapan pipeline**"
   ]
  },
  {
   "cell_type": "code",
   "execution_count": 8,
   "metadata": {},
   "outputs": [],
   "source": [
    "# code here\n",
    "from pyspark.ml import Pipeline\n",
    "\n",
    "# List kosong untuk menyimpan tahapan pipeline\n",
    "stages = []\n"
   ]
  },
  {
   "cell_type": "markdown",
   "metadata": {},
   "source": [
    "- **Melakukan tahapan `StringIndexer` dan `OneHotEncoder`**"
   ]
  },
  {
   "cell_type": "code",
   "execution_count": 9,
   "metadata": {},
   "outputs": [],
   "source": [
    "# code here\n",
    "# StringIndexer: Mengubah kategori menjadi angka\n",
    "# StringIndexer: Mengubah kategori menjadi angka\n",
    "index_cols = [c + \"_index\" for c in categorical_cols]\n",
    "for c, index_col in zip(categorical_cols, index_cols):\n",
    "    if index_col not in credit_card.columns:\n",
    "        indexer = StringIndexer(inputCol=c, outputCol=index_col)\n",
    "        stages.append(indexer)\n",
    "\n",
    "# OneHotEncoder: Mengubah angka menjadi vektor dummy\n",
    "dummy_cols = [c + \"_dummy\" for c in categorical_cols]\n",
    "encoder = OneHotEncoder(inputCols=index_cols, outputCols=dummy_cols)\n",
    "stages.append(encoder)\n"
   ]
  },
  {
   "cell_type": "markdown",
   "metadata": {},
   "source": [
    "- **Membuat pipeline**"
   ]
  },
  {
   "cell_type": "code",
   "execution_count": 10,
   "metadata": {},
   "outputs": [],
   "source": [
    "# code here\n",
    "# Buat pipeline dengan semua tahapan preprocessing\n",
    "# Buat pipeline dengan tahapan preprocessing\n",
    "if stages:\n",
    "    pipeline = Pipeline(stages=stages)\n",
    "\n"
   ]
  },
  {
   "cell_type": "markdown",
   "metadata": {},
   "source": [
    "- **Fit pipeline**"
   ]
  },
  {
   "cell_type": "code",
   "execution_count": 11,
   "metadata": {},
   "outputs": [],
   "source": [
    "# code here\n",
    "credit_card = pipeline.fit(credit_card).transform(credit_card)"
   ]
  },
  {
   "cell_type": "code",
   "execution_count": 12,
   "metadata": {},
   "outputs": [
    {
     "name": "stdout",
     "output_type": "stream",
     "text": [
      "+------+------------+----------------+\n",
      "|Gender|Gender_index|Gender_dummy_arr|\n",
      "+------+------------+----------------+\n",
      "|Male  |1.0         |[0.0]           |\n",
      "|Male  |1.0         |[0.0]           |\n",
      "|Female|0.0         |[1.0]           |\n",
      "|Male  |1.0         |[0.0]           |\n",
      "|Male  |1.0         |[0.0]           |\n",
      "+------+------------+----------------+\n",
      "only showing top 5 rows\n",
      "\n",
      "+---------+---------------+-------------------+\n",
      "|Ethnicity|Ethnicity_index|Ethnicity_dummy_arr|\n",
      "+---------+---------------+-------------------+\n",
      "|Caucasian|0.0            |[1.0, 0.0]         |\n",
      "|Asian    |2.0            |[0.0, 0.0]         |\n",
      "|Asian    |2.0            |[0.0, 0.0]         |\n",
      "|Caucasian|0.0            |[1.0, 0.0]         |\n",
      "|Caucasian|0.0            |[1.0, 0.0]         |\n",
      "+---------+---------------+-------------------+\n",
      "only showing top 5 rows\n",
      "\n"
     ]
    }
   ],
   "source": [
    "# Konversi hasil encoding ke array agar lebih mudah dibaca\n",
    "from pyspark.sql.functions import udf\n",
    "from pyspark.ml.linalg import SparseVector, DenseVector\n",
    "from pyspark.sql.types import ArrayType, FloatType\n",
    "\n",
    "def sparse_to_array(vec):\n",
    "    if isinstance(vec, SparseVector):\n",
    "        return vec.toArray().tolist()\n",
    "    elif isinstance(vec, DenseVector):\n",
    "        return vec.values.tolist()\n",
    "    return []\n",
    "\n",
    "array_udf = udf(sparse_to_array, ArrayType(FloatType()))\n",
    "\n",
    "# Tambahkan kolom baru dengan nilai array dari hasil encoding\n",
    "for dummy_col in dummy_cols:\n",
    "    credit_card = credit_card.withColumn(dummy_col + \"_arr\", array_udf(credit_card[dummy_col]))\n",
    "\n",
    "# Tampilkan hasil encoding\n",
    "credit_card.select(\"Gender\", \"Gender_index\", \"Gender_dummy_arr\").show(5, truncate=False)\n",
    "credit_card.select(\"Ethnicity\", \"Ethnicity_index\", \"Ethnicity_dummy_arr\").show(5, truncate=False)"
   ]
  },
  {
   "cell_type": "markdown",
   "metadata": {},
   "source": [
    "### 3️⃣ Splitting Train-Test Data\n",
    "\n",
    "Silahkan untuk melakukan proses splitting data dengan kondisi sebagai berikut : \n",
    "- Proporsi split = 80:20\n",
    "- Seed = 123"
   ]
  },
  {
   "cell_type": "code",
   "execution_count": 13,
   "metadata": {},
   "outputs": [
    {
     "name": "stdout",
     "output_type": "stream",
     "text": [
      "Jumlah data train: 243\n",
      "Jumlah data test: 67\n"
     ]
    }
   ],
   "source": [
    "# code here\n",
    "# Splitting data dengan rasio 80:20 dan seed = 123\n",
    "train_data, test_data = credit_card.randomSplit([0.8, 0.2], seed=123)\n",
    "\n",
    "# Cek jumlah data pada masing-masing set\n",
    "print(f\"Jumlah data train: {train_data.count()}\")\n",
    "print(f\"Jumlah data test: {test_data.count()}\")\n"
   ]
  },
  {
   "cell_type": "markdown",
   "metadata": {},
   "source": [
    "### 4️⃣ Feature Selection\n",
    "\n",
    "Melakukan pemilihan fitur dan menggabungkannya menjadi satu kesatuan vector dengan menggunakan `VectorAssembler()`"
   ]
  },
  {
   "cell_type": "markdown",
   "metadata": {},
   "source": [
    "- **List kolom predictor**"
   ]
  },
  {
   "cell_type": "code",
   "execution_count": 14,
   "metadata": {},
   "outputs": [],
   "source": [
    "# code here\n",
    "predictor_cols = [\"Income\", \"Age\", \"Limit\", \"Rating\", \"Cards\", \"Education\", \n",
    "                  \"Gender_dummy\", \"Student_dummy\", \"Married_dummy\", \"Ethnicity_dummy\"]\n"
   ]
  },
  {
   "cell_type": "markdown",
   "metadata": {},
   "source": [
    "- **Menggabungkan semua fitur**"
   ]
  },
  {
   "cell_type": "code",
   "execution_count": 15,
   "metadata": {},
   "outputs": [
    {
     "name": "stdout",
     "output_type": "stream",
     "text": [
      "+-------------------------------------------------------------+\n",
      "|features                                                     |\n",
      "+-------------------------------------------------------------+\n",
      "|[2860.1104,83.0,4263.0,317.0,1.0,15.0,0.0,1.0,0.0,1.0,0.0]   |\n",
      "|[239.506576,60.0,2762.0,215.0,3.0,18.0,0.0,1.0,0.0,0.0,0.0]  |\n",
      "|[6840.282436,64.0,7506.0,536.0,2.0,13.0,1.0,1.0,1.0,0.0,0.0] |\n",
      "|[575.472121,31.0,4523.0,338.0,4.0,15.0,0.0,1.0,0.0,1.0,0.0]  |\n",
      "|[271.656324,41.0,3326.0,268.0,4.0,15.0,0.0,1.0,0.0,1.0,0.0]  |\n",
      "|[2324.975524,39.0,5199.0,401.0,7.0,10.0,0.0,1.0,1.0,0.0,0.0] |\n",
      "|[23087.890809,91.0,9156.0,642.0,2.0,11.0,1.0,1.0,1.0,0.0,1.0]|\n",
      "|[10939.695649,71.0,7075.0,514.0,4.0,11.0,0.0,1.0,0.0,0.0,0.0]|\n",
      "|[696.96,58.0,5640.0,398.0,3.0,15.0,1.0,1.0,0.0,0.0,0.0]      |\n",
      "|[265.820416,66.0,5466.0,413.0,4.0,10.0,0.0,1.0,1.0,0.0,0.0]  |\n",
      "|[1079.516736,68.0,5884.0,438.0,4.0,13.0,0.0,1.0,0.0,1.0,0.0] |\n",
      "|[10916.697289,41.0,7140.0,507.0,2.0,14.0,0.0,1.0,1.0,0.0,1.0]|\n",
      "|[5138.309124,57.0,8028.0,599.0,3.0,16.0,0.0,1.0,1.0,1.0,0.0] |\n",
      "|[3164.737536,72.0,5521.0,406.0,2.0,16.0,1.0,0.0,1.0,1.0,0.0] |\n",
      "|[620.956561,76.0,5051.0,372.0,3.0,11.0,1.0,1.0,1.0,0.0,1.0]  |\n",
      "|[329.241025,56.0,3461.0,279.0,3.0,15.0,0.0,1.0,1.0,0.0,1.0]  |\n",
      "|[925.3764,30.0,4442.0,316.0,1.0,14.0,1.0,1.0,0.0,0.0,1.0]    |\n",
      "|(11,[0,1,2,3,4,5],[280.596001,48.0,4706.0,353.0,6.0,14.0])   |\n",
      "|[749.062161,40.0,3449.0,288.0,3.0,9.0,1.0,1.0,1.0,1.0,0.0]   |\n",
      "|[144.744961,58.0,3182.0,259.0,2.0,18.0,1.0,1.0,1.0,1.0,0.0]  |\n",
      "+-------------------------------------------------------------+\n",
      "only showing top 20 rows\n",
      "\n"
     ]
    }
   ],
   "source": [
    "# code here\n",
    "from pyspark.ml.feature import VectorAssembler\n",
    "\n",
    "# Hapus kolom 'features' jika sudah ada\n",
    "if \"features\" in credit_card.columns:\n",
    "    credit_card = credit_card.drop(\"features\")\n",
    "\n",
    "# Buat VectorAssembler\n",
    "assembler = VectorAssembler(inputCols=predictor_cols, outputCol=\"features\")\n",
    "\n",
    "# Transform dataset\n",
    "credit_card = assembler.transform(credit_card)\n",
    "\n",
    "# Tampilkan hasil transformasi\n",
    "credit_card.select(\"features\").show(truncate=False)\n"
   ]
  },
  {
   "cell_type": "markdown",
   "metadata": {},
   "source": [
    "- **Transformasi data**"
   ]
  },
  {
   "cell_type": "code",
   "execution_count": 16,
   "metadata": {},
   "outputs": [
    {
     "name": "stdout",
     "output_type": "stream",
     "text": [
      "+------------------------------------------------------------------------------------------------------------------------------------------------------------------------------------------------+\n",
      "|scaled_features                                                                                                                                                                                 |\n",
      "+------------------------------------------------------------------------------------------------------------------------------------------------------------------------------------------------+\n",
      "|[0.4627479137980003,4.786125331728118,2.077028126787944,2.2976444010651633,0.7008983387394068,4.674492855256518,0.0,3.010531236391834,0.0,1.99714569808358,0.0]                                 |\n",
      "|[0.0387506609482285,3.45984963739382,1.3457076439569087,1.5583392625520824,2.1026950162182203,5.6093914263078215,0.0,3.010531236391834,0.0,0.0,0.0]                                             |\n",
      "|[1.1067147712368388,3.6905062798867414,3.6570896363289487,3.884976021990308,1.4017966774788135,4.0512271412223155,2.000940217869063,3.010531236391834,2.056214742626998,0.0,0.0]                |\n",
      "|[0.09310777774230687,1.7875889793201403,2.2037058919685366,2.449854282523739,2.803593354957627,4.674492855256518,0.0,3.010531236391834,0.0,1.99714569808358,0.0]                                |\n",
      "|[0.04395228841552187,2.364230585552444,1.62050094996404,1.942488010995154,2.803593354957627,4.674492855256518,0.0,3.010531236391834,0.0,1.99714569808358,0.0]                                   |\n",
      "|[0.3761664491560929,2.248902264305983,2.533068081438077,2.9064839268994653,4.906288371175847,3.116328570171012,0.0,3.010531236391834,2.056214742626998,0.0,0.0]                                 |\n",
      "|[3.735475842422298,5.247438616713961,4.461006223051939,4.653273518876451,1.4017966774788135,3.427961427188113,2.000940217869063,3.010531236391834,2.056214742626998,0.0,2.3007466208304206]     |\n",
      "|[1.7699741028037974,4.094155404249354,3.447096879433428,3.7255180509384664,2.803593354957627,3.427961427188113,0.0,3.010531236391834,0.0,0.0,0.0]                                               |\n",
      "|[0.11276375415461386,3.3445213161473593,2.747933060071312,2.8847396581196687,2.1026950162182203,4.674492855256518,2.000940217869063,3.010531236391834,0.0,0.0,0.0]                              |\n",
      "|[0.043008075124973004,3.8058346011332023,2.6631564018350695,2.9934610020186514,2.803593354957627,3.116328570171012,0.0,3.010531236391834,2.056214742626998,0.0,0.0]                             |\n",
      "|[0.1746590332645994,3.9211629223796627,2.8668152704715606,3.174663241850289,2.803593354957627,4.0512271412223155,0.0,3.010531236391834,0.0,1.99714569808358,0.0]                                |\n",
      "|[1.7662531124844114,2.364230585552444,3.4787663207285764,3.6747814237856082,1.4017966774788135,4.362859998239417,0.0,3.010531236391834,2.056214742626998,0.0,2.3007466208304206]                |\n",
      "|[0.8313461702667948,3.286857155524129,3.9114196110376764,4.341605666366034,2.1026950162182203,4.986125712273619,0.0,3.010531236391834,2.056214742626998,1.99714569808358,0.0]                   |\n",
      "|[0.5120346726833426,4.151819564872584,2.689953621392503,2.9427243748657927,1.4017966774788135,4.986125712273619,2.000940217869063,0.0,2.056214742626998,1.99714569808358,0.0]                   |\n",
      "|[0.10046687469194569,4.382476207365506,2.4609591997198934,2.696289328694766,2.1026950162182203,3.427961427188113,2.000940217869063,3.010531236391834,2.056214742626998,0.0,2.3007466208304206]  |\n",
      "|[0.053269131658507045,3.229192994900899,1.6862759434231935,2.0222169965210743,2.1026950162182203,4.674492855256518,0.0,3.010531236391834,2.056214742626998,0.0,2.3007466208304206]              |\n",
      "|[0.14972009422360194,1.72992481869691,2.164240895893044,2.290396311471898,0.7008983387394068,4.362859998239417,2.000940217869063,3.010531236391834,0.0,0.0,2.3007466208304206]                  |\n",
      "|(11,[0,1,2,3,4,5],[0.04539867205224372,2.7678797099150563,2.2928675497687228,2.558575626422721,4.205390032436441,4.362859998239417])                                                            |\n",
      "|[0.12119355683185229,2.3065664249292133,1.6804292773379355,2.0874498028604638,2.1026950162182203,2.8046957131539108,2.000940217869063,3.010531236391834,2.056214742626998,1.99714569808358,0.0] |\n",
      "|[0.023418826327656062,3.3445213161473593,1.5503409569409425,1.8772552046557642,1.4017966774788135,5.6093914263078215,2.000940217869063,3.010531236391834,2.056214742626998,1.99714569808358,0.0]|\n",
      "+------------------------------------------------------------------------------------------------------------------------------------------------------------------------------------------------+\n",
      "only showing top 20 rows\n",
      "\n",
      "Jumlah data train: 243\n",
      "Jumlah data test: 67\n"
     ]
    }
   ],
   "source": [
    "# code here\n",
    "from pyspark.ml.feature import StandardScaler\n",
    "\n",
    "# Hapus 'scaled_features' jika sudah ada\n",
    "if \"scaled_features\" in credit_card.columns:\n",
    "    credit_card = credit_card.drop(\"scaled_features\")\n",
    "\n",
    "# Inisialisasi StandardScaler\n",
    "scaler = StandardScaler(inputCol=\"features\", outputCol=\"scaled_features\", withStd=True, withMean=False)\n",
    "\n",
    "# Fit dan transform\n",
    "scaler_model = scaler.fit(credit_card)\n",
    "credit_card = scaler_model.transform(credit_card)\n",
    "\n",
    "# Tampilkan hasil normalisasi\n",
    "credit_card.select(\"scaled_features\").show(truncate=False)\n",
    "\n",
    "# Split data menjadi Train (80%) dan Test (20%)\n",
    "train_data, test_data = credit_card.randomSplit([0.8, 0.2], seed=123)\n",
    "\n",
    "# Cek jumlah data\n",
    "print(f\"Jumlah data train: {train_data.count()}\")\n",
    "print(f\"Jumlah data test: {test_data.count()}\")\n",
    "\n"
   ]
  },
  {
   "cell_type": "markdown",
   "metadata": {},
   "source": [
    "## 3. Training Model Regression "
   ]
  },
  {
   "cell_type": "markdown",
   "metadata": {},
   "source": [
    "- **Membangun dan melatih model**"
   ]
  },
  {
   "cell_type": "code",
   "execution_count": 17,
   "metadata": {},
   "outputs": [],
   "source": [
    "# code here\n",
    "from pyspark.ml.regression import LinearRegression\n",
    "\n",
    "# 1️⃣ Inisialisasi Model Linear Regression\n",
    "lr = LinearRegression(featuresCol=\"features\", labelCol=\"Balance\")\n",
    "\n",
    "# 2️⃣ Training Model\n",
    "lr_model = lr.fit(train_data)\n"
   ]
  },
  {
   "cell_type": "markdown",
   "metadata": {},
   "source": [
    "- **Menampilkan hasil summary**"
   ]
  },
  {
   "cell_type": "code",
   "execution_count": 18,
   "metadata": {},
   "outputs": [
    {
     "name": "stdout",
     "output_type": "stream",
     "text": [
      "✅ Model Training Summary:\n",
      "Coefficients: [-0.04928038510300098,-1.646094562715368,0.2225852629219383,1.0531965025237702,24.32406544970886,1.066227847307,-4.815530442732883,-491.6559854729577,-6.713216941135501,-21.918784344612845,-10.716142866211992]\n",
      "Intercept: -329.8607563487151\n",
      "RMSE: 102.37011598137858\n",
      "R2: 0.9394445989897267\n"
     ]
    }
   ],
   "source": [
    "# code here\n",
    "# 3️⃣ Menampilkan Hasil Summary\n",
    "print(\"✅ Model Training Summary:\")\n",
    "print(f\"Coefficients: {lr_model.coefficients}\")\n",
    "print(f\"Intercept: {lr_model.intercept}\")\n",
    "\n",
    "training_summary = lr_model.summary\n",
    "print(f\"RMSE: {training_summary.rootMeanSquaredError}\")\n",
    "print(f\"R2: {training_summary.r2}\")\n"
   ]
  },
  {
   "cell_type": "markdown",
   "metadata": {},
   "source": [
    "## 4. Model Prediction"
   ]
  },
  {
   "cell_type": "markdown",
   "metadata": {},
   "source": [
    "- **Melakukan prediksi**"
   ]
  },
  {
   "cell_type": "code",
   "execution_count": 19,
   "metadata": {},
   "outputs": [],
   "source": [
    "# code here\n",
    "# 1️⃣ Prediksi Data Uji\n",
    "predictions = lr_model.transform(test_data)\n"
   ]
  },
  {
   "cell_type": "markdown",
   "metadata": {},
   "source": [
    "- **Menampilkan hasil prediksi**"
   ]
  },
  {
   "cell_type": "code",
   "execution_count": 20,
   "metadata": {},
   "outputs": [
    {
     "name": "stdout",
     "output_type": "stream",
     "text": [
      "+-----------------------------------------------------------+-------+------------------+\n",
      "|features                                                   |Balance|prediction        |\n",
      "+-----------------------------------------------------------+-------+------------------+\n",
      "|[110.313009,25.0,2923.0,232.0,3.0,18.0,1.0,1.0,1.0,0.0,1.0]|191    |96.77234600196465 |\n",
      "|[115.240225,44.0,3746.0,280.0,2.0,17.0,1.0,1.0,1.0,1.0,0.0]|410    |262.40190293888645|\n",
      "|[144.0,28.0,4160.0,320.0,4.0,14.0,1.0,1.0,1.0,1.0,0.0]     |602    |467.04972946298676|\n",
      "|[144.744961,58.0,3182.0,259.0,2.0,18.0,1.0,1.0,1.0,1.0,0.0]|210    |91.31358731476365 |\n",
      "|[155.151936,65.0,5395.0,392.0,3.0,14.0,0.0,1.0,1.0,1.0,0.0]|955    |736.8090718251235 |\n",
      "|[186.240609,47.0,3461.0,264.0,4.0,14.0,0.0,1.0,1.0,1.0,0.0]|344    |223.94172681185626|\n",
      "|[213.014025,37.0,2955.0,260.0,5.0,9.0,0.0,1.0,1.0,0.0,1.0] |204    |152.43790683098604|\n",
      "|[221.622769,58.0,4745.0,339.0,3.0,12.0,0.0,1.0,1.0,0.0,1.0]|724    |553.6263757665408 |\n",
      "|[227.376241,28.0,5673.0,411.0,4.0,15.0,1.0,1.0,1.0,0.0,0.0]|1075   |918.538312920542  |\n",
      "|[228.765625,66.0,3300.0,266.0,5.0,13.0,1.0,1.0,0.0,1.0,0.0]|279    |181.9959707306931 |\n",
      "+-----------------------------------------------------------+-------+------------------+\n",
      "only showing top 10 rows\n",
      "\n"
     ]
    }
   ],
   "source": [
    "# code here\n",
    "# 2️⃣ Menampilkan Hasil Prediksi\n",
    "predictions.select(\"features\", \"Balance\", \"prediction\").show(10, truncate=False)"
   ]
  },
  {
   "cell_type": "markdown",
   "metadata": {},
   "source": [
    "## 5. Model Evaluation\n",
    "\n",
    "- **Menghitung nilai MAE**"
   ]
  },
  {
   "cell_type": "code",
   "execution_count": 21,
   "metadata": {},
   "outputs": [
    {
     "name": "stdout",
     "output_type": "stream",
     "text": [
      "✅ Mean Absolute Error (MAE): 87.67456946143103\n"
     ]
    }
   ],
   "source": [
    "# code here\n",
    "from pyspark.ml.evaluation import RegressionEvaluator\n",
    "\n",
    "# 1️⃣ Inisialisasi Evaluator\n",
    "evaluator = RegressionEvaluator(labelCol=\"Balance\", predictionCol=\"prediction\")\n",
    "\n",
    "# 2️⃣ Hitung MAE\n",
    "mae = evaluator.setMetricName(\"mae\").evaluate(predictions)\n",
    "print(f\"✅ Mean Absolute Error (MAE): {mae}\")"
   ]
  },
  {
   "cell_type": "markdown",
   "metadata": {},
   "source": [
    "- **Menghitung nilai RMSE**"
   ]
  },
  {
   "cell_type": "code",
   "execution_count": 22,
   "metadata": {},
   "outputs": [
    {
     "name": "stdout",
     "output_type": "stream",
     "text": [
      "✅ Root Mean Squared Error (RMSE): 107.73474930765781\n"
     ]
    }
   ],
   "source": [
    "# code here\n",
    "# 3️⃣ Hitung RMSE\n",
    "rmse = evaluator.setMetricName(\"rmse\").evaluate(predictions)\n",
    "print(f\"✅ Root Mean Squared Error (RMSE): {rmse}\")"
   ]
  },
  {
   "cell_type": "code",
   "execution_count": 26,
   "metadata": {},
   "outputs": [
    {
     "data": {
      "image/png": "[encoded data removed]",
      "text/plain": [
       "<Figure size 800x600 with 1 Axes>"
      ]
     },
     "metadata": {},
     "output_type": "display_data"
    }
   ],
   "source": [
    "import pandas as pd\n",
    "import matplotlib.pyplot as plt\n",
    "import seaborn as sns\n",
    "\n",
    "# 1️⃣ Konversi DataFrame PySpark ke Pandas\n",
    "pred_df = predictions.select(\"Balance\", \"prediction\").toPandas()\n",
    "\n",
    "# 2️⃣ Scatter Plot: Balance (Actual) vs. Prediction\n",
    "plt.figure(figsize=(8, 6))\n",
    "sns.scatterplot(x=pred_df[\"Balance\"], y=pred_df[\"prediction\"], alpha=0.7)\n",
    "plt.plot([pred_df[\"Balance\"].min(), pred_df[\"Balance\"].max()], \n",
    "         [pred_df[\"Balance\"].min(), pred_df[\"Balance\"].max()], \n",
    "         color=\"red\", linestyle=\"--\")  # Garis referensi y=x\n",
    "plt.xlabel(\"Actual Balance\")\n",
    "plt.ylabel(\"Predicted Balance\")\n",
    "plt.title(\"Actual vs. Predicted Balance\")\n",
    "plt.show()\n"
   ]
  }
 ],
 "metadata": {
  "kernelspec": {
   "display_name": "dss_pyspark",
   "language": "python",
   "name": "python3"
  },
  "language_info": {
   "codemirror_mode": {
    "name": "ipython",
    "version": 3
   },
   "file_extension": ".py",
   "mimetype": "text/x-python",
   "name": "python",
   "nbconvert_exporter": "python",
   "pygments_lexer": "ipython3",
   "version": "3.10.16"
  }
 },
 "nbformat": 4,
 "nbformat_minor": 2
}
