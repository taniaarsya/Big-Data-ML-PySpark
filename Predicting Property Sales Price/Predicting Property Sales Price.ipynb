{
 "cells": [
  {
   "cell_type": "markdown",
   "metadata": {},
   "source": [
    "## Training Objectives\n",
    "\n",
    "- **Data Pre-processing**\n",
    "\n",
    "    - Dummy encoding and One-Hot Encoding in PySpark\n",
    "    - Train-test Split in PySpark\n",
    "\n",
    "- **Building a Linear Regression Model in PySpark**\n",
    "    - Predictive Analysis with ML: Regression (Linear Reression)\n",
    "    - Model Training and Prediction with PySpark MLlib\n",
    "\n",
    "- **Model Evaluation**\n",
    "    \n",
    "    - Evaluation Metrics: Error\n",
    "    - Saving, Exporting, and Evaluating Models in MLlib\n"
   ]
  },
  {
   "cell_type": "markdown",
   "metadata": {},
   "source": [
    "# 🧠 **Machine Learning**"
   ]
  },
  {
   "cell_type": "markdown",
   "metadata": {},
   "source": [
    "\n",
    "\n",
    "<img src=\"assets/supervised_unsupervised.png\" width=\"900\">\n",
    "\n",
    "**Supervised Learning**: \n",
    "\n",
    "* memiliki target variable. \n",
    "* untuk pembuatan model prediksi (y ~ x)\n",
    "* ada ground truth (label aktual) sehingga ada evaluasi model\n",
    "\n",
    "**Unsupervised Learning**: \n",
    "\n",
    "* tidak memiliki target variable. \n",
    "* untuk mencari pola dalam data sehingga menghasilkan informasi yang berguna/dapat diolah lebih lanjut. umumnya dipakai untuk tahap explanatory data analysis (EDA)/data pre-processing.\n",
    "* tidak ada ground truth sehingga tidak ada evaluasi model "
   ]
  },
  {
   "cell_type": "markdown",
   "metadata": {},
   "source": [
    "# 🛠 **PySpark for Machine Learning**\n",
    "\n",
    "🌟 **Keunggulan PySpark untuk Machine Learning**\n",
    "\n",
    "1. **Skalabilitas**:  \n",
    "   - Mampu memproses data besar dengan komputasi terdistribusi.\n",
    "\n",
    "2. **Fleksibilitas**:  \n",
    "   - Mendukung berbagai algoritma seperti klasifikasi, regresi, dan clustering.  \n",
    "\n",
    "3. **Efisiensi**:  \n",
    "   - Mempercepat preprocessing, rekayasa fitur, dan pelatihan model.\n",
    "\n",
    "\n",
    "\n",
    " ### 🔑 **Komponen Utama**\n",
    "\n",
    "1️⃣ **Preprocessing Data**\n",
    "   - Transformasi data mentah menjadi siap pakai, seperti:  \n",
    "     - Mengubah tipe data\n",
    "     - Encoding data kategorikal.  \n",
    "\n",
    "2️⃣ **MLlib (Machine Learning Library)**\n",
    "   - Mendukung algoritma seperti Linear Regression, Random Forest, Logistic Regression, dan K-Means.  \n",
    "   - Tersedia alat untuk rekayasa fitur seperti PCA dan StringIndexer.\n",
    "\n",
    "3️⃣ **Evaluasi Model**\n",
    "   - Gunakan metrik seperti *error*\n"
   ]
  },
  {
   "cell_type": "markdown",
   "metadata": {},
   "source": [
    "<div class=\"alert alert-info\"><br>\n",
    "  <center><h2>📊 Study Case: Predicting Property Sales Price: in Jakarta, Tangsel, and Depok Area</h2></center>\n",
    "</div> \n",
    "\n",
    "<center>\n",
    "\n",
    "![house.png](assets/house.png)\n",
    "\n",
    "</center>\n",
    "\n",
    "Sebagai Tim Data di sebuah institusi perbankan, diminta untuk melakukan analisis untuk mengetahui prediksi harga properti untuk acuan dasar data credit KPR di perbankan. \n",
    "\n",
    "Keinginan untuk memiliki properti sendiri merupakan impian banyak orang. Selain bisa dijadikan tempat tinggal, memiliki properti di Jakarta dan Depok adalah salah satu aset investasi yang menguntungkan karena harganya yang cenderung naik setiap tahunnya.  \n",
    "\n",
    "Dalam proses pencarian tempat tinggal idaman ini, beberapa orang mungkin saja mengalami hambatan, yaitu kesulitan dalam mencari tempat tinggal yang sesuai dengan spesifikasi yang diinginkan dan budget yang dimiliki. Banyak orang menemukan tempat tinggal dengan harga yang cukup mahal namun tidak sesuai dengan spesifikasi yang ditawarkan.\n",
    "\n",
    "***“Ada gak sih kira-kira sistem yang dapat memberikan referensi harga properti?”*** menjadi tujuan analisis pada pembahasan analisis kita."
   ]
  },
  {
   "cell_type": "markdown",
   "metadata": {},
   "source": [
    "\n",
    "## 🛠 **Load Data**\n",
    "\n",
    "**Membaca dan Mengeksplorasi Data**:\n",
    "   - Menggunakan dataset dari `data_input/property.csv` untuk analisis.\n",
    "   - Data ini berisi informasi penting tentang harga properti di Jakarta, Tangerang dan Depok.\n"
   ]
  },
  {
   "cell_type": "code",
   "execution_count": 55,
   "metadata": {},
   "outputs": [],
   "source": [
    "from pyspark.sql import SparkSession\n",
    "\n",
    "spark = SparkSession.builder.appName(\"Machine Learning with PySpark\").getOrCreate()"
   ]
  },
  {
   "cell_type": "code",
   "execution_count": 56,
   "metadata": {},
   "outputs": [],
   "source": [
    "# Read data\n",
    "properti = spark.read.csv('data_input/property.csv', header=True, inferSchema=True)"
   ]
  },
  {
   "cell_type": "code",
   "execution_count": 57,
   "metadata": {},
   "outputs": [
    {
     "name": "stdout",
     "output_type": "stream",
     "text": [
      "+-----------+-----------+-------------+--------------------+-------------+---------------+----------+\n",
      "|kamar_mandi|kamar_tidur|luas_bangunan|          sertifikat|tipe_properti|           kota|     harga|\n",
      "+-----------+-----------+-------------+--------------------+-------------+---------------+----------+\n",
      "|          3|          4|          294|SHM - Sertifikat ...|        Rumah|  Jakarta Utara|3500000000|\n",
      "|          3|          3|           78|SHM - Sertifikat ...|    Apartemen|Jakarta Selatan|2500000000|\n",
      "|          1|          1|           33|HGB - Hak Guna Ba...|    Apartemen|  Jakarta Timur| 265000000|\n",
      "|          2|          2|          120|SHM - Sertifikat ...|        Rumah|  Jakarta Pusat|2600000000|\n",
      "|          3|          3|          130|SHM - Sertifikat ...|        Rumah|          Depok|1300000000|\n",
      "+-----------+-----------+-------------+--------------------+-------------+---------------+----------+\n",
      "only showing top 5 rows\n",
      "\n"
     ]
    }
   ],
   "source": [
    "properti.show(5)"
   ]
  },
  {
   "cell_type": "markdown",
   "metadata": {},
   "source": [
    "Berikut deskripsi variabel dari data tersebut:\n",
    "- `kamar_mandi`: Jumlah kamar mandi pada suatu properti\n",
    "\n",
    "- `kamar_tidur`: Jumlah kamar tidur pada suatu properti\n",
    "\n",
    "- `luas_bangunan`: Luas bangunan properti (m2)\n",
    "\n",
    "- `sertifikat`: Jenis sertifikat atas properti yang di jual\n",
    "    - `Sertifikat Hak Pakai`\n",
    "    - `Sertifikat Hak Sewa`\n",
    "    - `Sertifikat lainnya (PPJB, Girik, Adat, dll)`\n",
    "    - `Sertifikat PPJB`\n",
    "    - `Sertifikat Hak Milik`\n",
    "    \n",
    "- `tipe_properti`: Jenis properti yang dijual\n",
    "    - `Rumah`: Untuk tipe properti rumah\n",
    "    - `Apartemen`: Untuk tipe properti apartemen\n",
    "    \n",
    "- `kota`: Lokasi kota tempat properti di jual\n",
    "    - `Depok`\n",
    "    - `Jakarta Selatan`\n",
    "    - `Jakarta Timur`\n",
    "    - `Jakarta Utara`\n",
    "    - `Jakarta Barat`\n",
    "    - `Jakarta Pusat`\n",
    "    - `Tangerang Selatan`\n",
    "- `harga`: Nominal harga properti yang dijual\n",
    "\n",
    "🔍 **Tujuan**\n",
    "\n",
    "menggunakan data ini untuk:\n",
    "- **Memprediksi** harga properti di wilayah Jakarta, Depok dan Tangerang berdasarkan beberapa variable prediktor.\n",
    "\n",
    "Namun, sebelum melakukan analisis, kita harus **membersihkan dan memproses data** agar memiliki format dan kualitas yang sesuai untuk model klasifikasi risiko kredit.\n"
   ]
  },
  {
   "cell_type": "markdown",
   "metadata": {},
   "source": [
    "## 📊 **Data Preprocessing**\n",
    "\n",
    "### Dummy Encoding dan One-Hot Encoding di PySpark\n",
    "\n",
    "**Kebutuhan Model**: Model machine learning hanya dapat bekerja dengan data dalam format numerik. Fitur kategorikal harus diubah menjadi representasi numerik agar model bisa memahami dan menganalisis data.\n",
    "\n",
    "Oleh karena itu, perlu mengubah variabel kategorikal ini menjadi format numerik. Di PySpark, dapat menggunakan `StringIndexer` dan `OneHotEncoder` untuk mengonversi data kategorikal menjadi format dummy atau one-hot encoded.\n",
    "\n",
    "🛠 **Sintaks Dasar untuk Encoding**\n",
    "\n",
    "1. **Impor Library**:\n",
    "   ```python\n",
    "   from pyspark.ml.feature import StringIndexer, OneHotEncoder\n",
    "   ```\n",
    "\n",
    "2. **Inisialisasi StringIndexer**:\n",
    "   - Mengubah teks menjadi indeks numerik.\n",
    "   ```python\n",
    "   indexer = StringIndexer(inputCol=\"col\", outputCol=\"col_index\")\n",
    "   ```\n",
    "\n",
    "3. **Inisialisasi OneHotEncoder**:\n",
    "   - Mengubah indeks menjadi representasi one-hot.\n",
    "   ```python\n",
    "   encoder = OneHotEncoder(inputCol=\"col_index\", outputCol=\"col_encoded\")\n",
    "   ```"
   ]
  },
  {
   "cell_type": "markdown",
   "metadata": {},
   "source": [
    "🔄 **Proses Encoding untuk Beberapa Kolom Kategorikal**"
   ]
  },
  {
   "cell_type": "code",
   "execution_count": 58,
   "metadata": {},
   "outputs": [
    {
     "name": "stdout",
     "output_type": "stream",
     "text": [
      "+-----------+-----------+-------------+--------------------+-------------+---------------+----------+\n",
      "|kamar_mandi|kamar_tidur|luas_bangunan|          sertifikat|tipe_properti|           kota|     harga|\n",
      "+-----------+-----------+-------------+--------------------+-------------+---------------+----------+\n",
      "|          3|          4|          294|SHM - Sertifikat ...|        Rumah|  Jakarta Utara|3500000000|\n",
      "|          3|          3|           78|SHM - Sertifikat ...|    Apartemen|Jakarta Selatan|2500000000|\n",
      "|          1|          1|           33|HGB - Hak Guna Ba...|    Apartemen|  Jakarta Timur| 265000000|\n",
      "+-----------+-----------+-------------+--------------------+-------------+---------------+----------+\n",
      "only showing top 3 rows\n",
      "\n"
     ]
    }
   ],
   "source": [
    "properti.show(3)"
   ]
  },
  {
   "cell_type": "code",
   "execution_count": 59,
   "metadata": {},
   "outputs": [],
   "source": [
    "from pyspark.ml.feature import StringIndexer, OneHotEncoder"
   ]
  },
  {
   "cell_type": "markdown",
   "metadata": {},
   "source": [
    "1️⃣ **List Kolom Kategorikal**: Menentukan kolom mana yang akan diproses."
   ]
  },
  {
   "cell_type": "code",
   "execution_count": 60,
   "metadata": {},
   "outputs": [],
   "source": [
    "# List of categorical columns\n",
    "cat_columns = ['sertifikat','tipe_properti','kota']"
   ]
  },
  {
   "cell_type": "markdown",
   "metadata": {},
   "source": [
    "2️⃣ **Buat List Kosong untuk Menyimpan Tahapan Pipeline**: \n",
    "   - memerlukan dua list, satu untuk menyimpan tahap pengindeksan dan satu lagi untuk pengkodean."
   ]
  },
  {
   "cell_type": "code",
   "execution_count": 61,
   "metadata": {},
   "outputs": [],
   "source": [
    "# Create empty lists to store the stages of the pipeline\n",
    "indexers = []\n",
    "encoders = []"
   ]
  },
  {
   "cell_type": "markdown",
   "metadata": {},
   "source": [
    "3️⃣ **Iterasi Melalui Setiap Kolom Kategorikal**:\n",
    "   - Menggunakan loop untuk membuat dan menyimpan `StringIndexer` dan `OneHotEncoder` untuk setiap kolom.\n",
    "   - Dengan mengiterasi kolom, bisa otomatis memproses semua kolom kategorikal tanpa harus menuliskan kode berulang kali untuk setiap kolom."
   ]
  },
  {
   "cell_type": "code",
   "execution_count": 62,
   "metadata": {},
   "outputs": [],
   "source": [
    "# Iterate over each categorical column for indexing and encoding\n",
    "for col in cat_columns:\n",
    "    # Create a StringIndexer for each column\n",
    "    indexer = StringIndexer(inputCol=col, outputCol=f\"{col}_index\", stringOrderType='alphabetAsc', handleInvalid=\"keep\")\n",
    "    indexers.append(indexer)\n",
    "    \n",
    "    # Create an OneHotEncoder for the indexed column\n",
    "    encoder = OneHotEncoder(inputCol=f\"{col}_index\", outputCol=f\"{col}_encoded\")\n",
    "    encoders.append(encoder)"
   ]
  },
  {
   "cell_type": "code",
   "execution_count": 63,
   "metadata": {},
   "outputs": [
    {
     "data": {
      "text/plain": [
       "[OneHotEncoder_e0ad33712789,\n",
       " OneHotEncoder_701e63df918a,\n",
       " OneHotEncoder_c14e963eed18]"
      ]
     },
     "execution_count": 63,
     "metadata": {},
     "output_type": "execute_result"
    }
   ],
   "source": [
    "encoders"
   ]
  },
  {
   "cell_type": "markdown",
   "metadata": {},
   "source": [
    "4️⃣ **Membuat Pipeline**\n",
    "\n",
    "- **Simplifikasi Proses**: Pipeline memungkinkan untuk melakukan beberapa transformasi secara berurutan dalam satu langkah, sehingga proses menjadi lebih teratur dan mudah dikelola.\n",
    "- **Gabungkan Indexers dan Encoders**: Mengatur tahapan encoding dalam satu workflow."
   ]
  },
  {
   "cell_type": "code",
   "execution_count": 64,
   "metadata": {},
   "outputs": [],
   "source": [
    "from pyspark.ml import Pipeline\n",
    "\n",
    "# Combine indexers and encoders into a single pipeline\n",
    "pipeline = Pipeline(stages = indexers + encoders)"
   ]
  },
  {
   "cell_type": "markdown",
   "metadata": {},
   "source": [
    "5️⃣ **Fit Pipeline untuk Membuat Fitur yang Dikonversi**: Menerapkan seluruh tahapan dalam satu langkah."
   ]
  },
  {
   "cell_type": "code",
   "execution_count": 65,
   "metadata": {},
   "outputs": [
    {
     "name": "stdout",
     "output_type": "stream",
     "text": [
      "+-----------+-----------+-------------+--------------------+-------------+---------------+----------+\n",
      "|kamar_mandi|kamar_tidur|luas_bangunan|          sertifikat|tipe_properti|           kota|     harga|\n",
      "+-----------+-----------+-------------+--------------------+-------------+---------------+----------+\n",
      "|          3|          4|          294|SHM - Sertifikat ...|        Rumah|  Jakarta Utara|3500000000|\n",
      "|          3|          3|           78|SHM - Sertifikat ...|    Apartemen|Jakarta Selatan|2500000000|\n",
      "|          1|          1|           33|HGB - Hak Guna Ba...|    Apartemen|  Jakarta Timur| 265000000|\n",
      "+-----------+-----------+-------------+--------------------+-------------+---------------+----------+\n",
      "only showing top 3 rows\n",
      "\n"
     ]
    }
   ],
   "source": [
    "properti.show(3)"
   ]
  },
  {
   "cell_type": "code",
   "execution_count": 66,
   "metadata": {},
   "outputs": [],
   "source": [
    "# Fit the pipeline to create the encoded features\n",
    "pipeline_model = pipeline.fit(properti)"
   ]
  },
  {
   "cell_type": "code",
   "execution_count": 67,
   "metadata": {},
   "outputs": [],
   "source": [
    "properti = pipeline_model.transform(properti)"
   ]
  },
  {
   "cell_type": "code",
   "execution_count": 68,
   "metadata": {},
   "outputs": [
    {
     "name": "stdout",
     "output_type": "stream",
     "text": [
      "+-----------+-----------+-------------+--------------------+-------------+---------------+----------+----------------+-------------------+----------+------------------+---------------------+-------------+\n",
      "|kamar_mandi|kamar_tidur|luas_bangunan|          sertifikat|tipe_properti|           kota|     harga|sertifikat_index|tipe_properti_index|kota_index|sertifikat_encoded|tipe_properti_encoded| kota_encoded|\n",
      "+-----------+-----------+-------------+--------------------+-------------+---------------+----------+----------------+-------------------+----------+------------------+---------------------+-------------+\n",
      "|          3|          4|          294|SHM - Sertifikat ...|        Rumah|  Jakarta Utara|3500000000|             5.0|                1.0|       5.0|     (6,[5],[1.0])|        (2,[1],[1.0])|(7,[5],[1.0])|\n",
      "|          3|          3|           78|SHM - Sertifikat ...|    Apartemen|Jakarta Selatan|2500000000|             5.0|                0.0|       3.0|     (6,[5],[1.0])|        (2,[0],[1.0])|(7,[3],[1.0])|\n",
      "|          1|          1|           33|HGB - Hak Guna Ba...|    Apartemen|  Jakarta Timur| 265000000|             0.0|                0.0|       4.0|     (6,[0],[1.0])|        (2,[0],[1.0])|(7,[4],[1.0])|\n",
      "|          2|          2|          120|SHM - Sertifikat ...|        Rumah|  Jakarta Pusat|2600000000|             5.0|                1.0|       2.0|     (6,[5],[1.0])|        (2,[1],[1.0])|(7,[2],[1.0])|\n",
      "|          3|          3|          130|SHM - Sertifikat ...|        Rumah|          Depok|1300000000|             5.0|                1.0|       0.0|     (6,[5],[1.0])|        (2,[1],[1.0])|(7,[0],[1.0])|\n",
      "+-----------+-----------+-------------+--------------------+-------------+---------------+----------+----------------+-------------------+----------+------------------+---------------------+-------------+\n",
      "only showing top 5 rows\n",
      "\n"
     ]
    }
   ],
   "source": [
    "properti.show(5)"
   ]
  },
  {
   "cell_type": "markdown",
   "metadata": {},
   "source": [
    "### 📦 Splitting Data into Training and Test Sets\n",
    "\n",
    "Untuk mengembangkan model yang dapat diandalkan, perlu membagi data menjadi set pelatihan dan pengujian. Pembagian ini adalah langkah sederhana namun sangat penting dalam machine learning.\n",
    "\n",
    "🤔 **Mengapa Kita Membagi Data?**\n",
    "\n",
    "- **Generalitas Model**: Proses ini memastikan bahwa model dapat menggeneralisasi dengan baik ke data yang belum pernah dilihat. \n",
    "- **Pembelajaran dan Evaluasi**: \n",
    "  - **Set Pelatihan (Train)**: Digunakan untuk melatih model, membantunya mempelajari pola dari data.\n",
    "  - **Set Pengujian (Test)**: Digunakan untuk mengevaluasi seberapa baik model dapat menerapkan pola tersebut pada data baru, sehingga membantu mencegah overfitting.\n",
    "\n",
    "![split.png](assets/test-trainn.png)"
   ]
  },
  {
   "cell_type": "markdown",
   "metadata": {},
   "source": [
    "🔀 Splitting Data\n",
    "Kita bisa membagi data menggunakan metode `randomSplit` di PySpark."
   ]
  },
  {
   "cell_type": "markdown",
   "metadata": {},
   "source": [
    "Tentukan beberapa parameter:\n",
    "\n",
    "- **Proposisi Split**: \n",
    "  - `[0.8, 0.2]` menunjukkan bahwa 80% dari data akan digunakan untuk pelatihan dan 20% untuk pengujian.\n",
    "- **Seed**\n",
    "  - `seed=123` memastikan bahwa pembagian data bersifat reproduktif. Ini artinya jika kita menjalankan kode yang sama di lain waktu, kita akan mendapatkan pembagian yang sama."
   ]
  },
  {
   "cell_type": "code",
   "execution_count": 69,
   "metadata": {},
   "outputs": [],
   "source": [
    "# splitting data\n",
    "train_data, test_data = properti.randomSplit([0.8, 0.2], seed = 123)"
   ]
  },
  {
   "cell_type": "code",
   "execution_count": 70,
   "metadata": {},
   "outputs": [
    {
     "data": {
      "text/plain": [
       "5015"
      ]
     },
     "execution_count": 70,
     "metadata": {},
     "output_type": "execute_result"
    }
   ],
   "source": [
    "train_data.count()"
   ]
  },
  {
   "cell_type": "code",
   "execution_count": 71,
   "metadata": {},
   "outputs": [
    {
     "data": {
      "text/plain": [
       "1272"
      ]
     },
     "execution_count": 71,
     "metadata": {},
     "output_type": "execute_result"
    }
   ],
   "source": [
    "test_data.count()"
   ]
  },
  {
   "cell_type": "code",
   "execution_count": 72,
   "metadata": {},
   "outputs": [
    {
     "name": "stdout",
     "output_type": "stream",
     "text": [
      "+-----------+-----------+-------------+--------------------+-------------+-------------+---------+----------------+-------------------+----------+------------------+---------------------+-------------+\n",
      "|kamar_mandi|kamar_tidur|luas_bangunan|          sertifikat|tipe_properti|         kota|    harga|sertifikat_index|tipe_properti_index|kota_index|sertifikat_encoded|tipe_properti_encoded| kota_encoded|\n",
      "+-----------+-----------+-------------+--------------------+-------------+-------------+---------+----------------+-------------------+----------+------------------+---------------------+-------------+\n",
      "|          1|          1|           14|HGB - Hak Guna Ba...|    Apartemen|Jakarta Utara|290000000|             0.0|                0.0|       5.0|     (6,[0],[1.0])|        (2,[0],[1.0])|(7,[5],[1.0])|\n",
      "|          1|          1|           14|HGB - Hak Guna Ba...|    Apartemen|Jakarta Utara|290000000|             0.0|                0.0|       5.0|     (6,[0],[1.0])|        (2,[0],[1.0])|(7,[5],[1.0])|\n",
      "|          1|          1|           14|Lainnya (PPJB,Gir...|    Apartemen|        Depok|325000000|             3.0|                0.0|       0.0|     (6,[3],[1.0])|        (2,[0],[1.0])|(7,[0],[1.0])|\n",
      "+-----------+-----------+-------------+--------------------+-------------+-------------+---------+----------------+-------------------+----------+------------------+---------------------+-------------+\n",
      "only showing top 3 rows\n",
      "\n"
     ]
    }
   ],
   "source": [
    "train_data.show(3)"
   ]
  },
  {
   "cell_type": "markdown",
   "metadata": {},
   "source": [
    "\n",
    "### 📈 Feature Selection\n",
    "\n",
    "Setelah melakukan beberapa tahapan pre-procesing data, langkah selanjutnya sebelum masuk dalam pemodelan adalah memilih beberapa fitur (kolom) yang akan dijadikan sebagai prediktor untuk melakukan prediksi harga properti."
   ]
  },
  {
   "cell_type": "markdown",
   "metadata": {},
   "source": [
    "**1️⃣ List Kolom Prediktor**  \n",
    "\n",
    "Identifikasi kolom prediktor mana yang ingin kita gunakan."
   ]
  },
  {
   "cell_type": "code",
   "execution_count": 73,
   "metadata": {},
   "outputs": [],
   "source": [
    "feature_predictor = ['kamar_mandi','kamar_tidur','luas_bangunan','sertifikat_encoded','tipe_properti_encoded','kota_encoded']"
   ]
  },
  {
   "cell_type": "markdown",
   "metadata": {},
   "source": [
    "**2️⃣ Menggabungkan Semua Fitur** "
   ]
  },
  {
   "cell_type": "markdown",
   "metadata": {},
   "source": [
    "Fitur-fitur yang sudah dipilih akan digabungkan menjadi satu kesatuan vector dengan menggunakan fungsi `VectorAssembler()`.\n",
    "\n",
    "**🤔 Mengapa Perlu `VectorAssembler()`?**\n",
    "\n",
    "`VectorAssembler()` diperlukan dikarenakan pemrosesan machine learning pada PySpark hanya menerima input data dalam bentuk vector.\n",
    "\n",
    "🛠 **Sintaks untuk mengubah dalam bentuk vector**\n",
    "\n",
    "   ```python\n",
    "   VectorAssembler(inputCols = kolom_predictor, outputCol = 'nama_kolom_hasil')\n",
    "   ```"
   ]
  },
  {
   "cell_type": "code",
   "execution_count": 74,
   "metadata": {},
   "outputs": [],
   "source": [
    "from pyspark.ml.feature import VectorAssembler"
   ]
  },
  {
   "cell_type": "code",
   "execution_count": 75,
   "metadata": {},
   "outputs": [],
   "source": [
    "assembler = VectorAssembler(inputCols = feature_predictor,\n",
    "                            outputCol = 'predictors')"
   ]
  },
  {
   "cell_type": "code",
   "execution_count": 76,
   "metadata": {},
   "outputs": [
    {
     "data": {
      "text/plain": [
       "VectorAssembler_d565c306e122"
      ]
     },
     "execution_count": 76,
     "metadata": {},
     "output_type": "execute_result"
    }
   ],
   "source": [
    "assembler"
   ]
  },
  {
   "cell_type": "code",
   "execution_count": 87,
   "metadata": {},
   "outputs": [],
   "source": [
    "#train_data.show(truncate = False)"
   ]
  },
  {
   "cell_type": "markdown",
   "metadata": {},
   "source": [
    "**3️⃣ Transformasi Data**  \n",
    "Terapkan assembler pada kedua data train dan test. Penting untuk memastikan keduanya diubah dengan cara yang sama.\n"
   ]
  },
  {
   "cell_type": "code",
   "execution_count": 88,
   "metadata": {},
   "outputs": [],
   "source": [
    "# Transformasi data training dan test menggunakan assembler\n",
    "train_data = assembler.transform(train_data)\n",
    "test_data = assembler.transform(test_data)"
   ]
  },
  {
   "cell_type": "code",
   "execution_count": 93,
   "metadata": {},
   "outputs": [],
   "source": [
    "#train_data.select('predictors').show(5, truncate=False)"
   ]
  },
  {
   "cell_type": "markdown",
   "metadata": {},
   "source": [
    "\n",
    "## 📈 Training Model Regression\n",
    "\n",
    "### Konsep Linear Regression\n",
    "\n",
    "Regresi Linear (Linear Regression) merupakan salah satu algoritma sederhana pada machine learning yang digunakan untuk memprediksi nilai numerik seperti harga rumah, profit, credit score dan lain sebagianya.\n",
    "\n",
    "Dalam linear regresi, terdapat istilah variable `y` (target) dan variable `x` (predictor). Cara kerja algoritma ini adalah dengan cara melakukan prediksi nilai `y` berdasarkan variable `x`. Dimana kita dapat juga menyebut variable `y` sebagai variable `dependent` dan variable `y` adalah variable `independent`.\n",
    "\n",
    "Linear Regression termasuk dalam golongan interpretable model, yang dimana kita dapat melakukan interpretasi hasil prediksi berdasarkan komponen variable `x` terhadap `y`\n",
    "\n",
    "![](assets/lr.png)\n",
    "\n",
    "🧪 **Formula model linear regression:**\n",
    "\n",
    "$$\n",
    "\\hat{y}=\\beta_0+\\beta_1.x_1+\\beta_2.x_2+\\beta_3.x_3+\\beta_4.x_4+ ....\n",
    "$$\n",
    "\n",
    "dimana:\n",
    "- $\\hat{y}$ : nilai prediksi target variabel\n",
    "- $\\beta_0$ : nilai intercept (nilai target variabel ketika kita tidak memiliki prediktor sama sekali)\n",
    "- $\\beta_1, \\beta_2, dst$ : nilai slope (nilai kemiringan garis regresi / nilai kontribusi prediktor dalam menentukan target variabel)\n",
    "\n"
   ]
  },
  {
   "cell_type": "markdown",
   "metadata": {},
   "source": [
    "### 🏗️ Building and Training a Linear Regression Model\n",
    "\n",
    "#### 1️⃣ 🔧 Membangun Model Linear Regression\n",
    "\n",
    "menggunakan `LinearRegression` untuk membangun model Random Forest kita. Dalam model ini, kita akan menetapkan beberapa parameter:\n",
    "\n",
    "1.  `labelCol`: Diisi dengan kolom target, yaitu kolom `harga`\n",
    "2.  `featuresCol`: Diisi dengan kolom kategorical yang telah di encoding dan juga kolom numerikal. Yaitu kolom predictor hasil assembler\n",
    "3.  `predictionCol`: Diisi dengan nama kolom untuk menampung hasil prediksi"
   ]
  },
  {
   "cell_type": "code",
   "execution_count": 91,
   "metadata": {},
   "outputs": [
    {
     "name": "stdout",
     "output_type": "stream",
     "text": [
      "+-----------+-----------+-------------+--------------------+-------------+-------------+---------+----------------+-------------------+----------+------------------+---------------------+-------------+--------------------+\n",
      "|kamar_mandi|kamar_tidur|luas_bangunan|          sertifikat|tipe_properti|         kota|    harga|sertifikat_index|tipe_properti_index|kota_index|sertifikat_encoded|tipe_properti_encoded| kota_encoded|          predictors|\n",
      "+-----------+-----------+-------------+--------------------+-------------+-------------+---------+----------------+-------------------+----------+------------------+---------------------+-------------+--------------------+\n",
      "|          1|          1|           14|HGB - Hak Guna Ba...|    Apartemen|Jakarta Utara|290000000|             0.0|                0.0|       5.0|     (6,[0],[1.0])|        (2,[0],[1.0])|(7,[5],[1.0])|(18,[0,1,2,3,9,16...|\n",
      "|          1|          1|           14|HGB - Hak Guna Ba...|    Apartemen|Jakarta Utara|290000000|             0.0|                0.0|       5.0|     (6,[0],[1.0])|        (2,[0],[1.0])|(7,[5],[1.0])|(18,[0,1,2,3,9,16...|\n",
      "|          1|          1|           14|Lainnya (PPJB,Gir...|    Apartemen|        Depok|325000000|             3.0|                0.0|       0.0|     (6,[3],[1.0])|        (2,[0],[1.0])|(7,[0],[1.0])|(18,[0,1,2,6,9,11...|\n",
      "+-----------+-----------+-------------+--------------------+-------------+-------------+---------+----------------+-------------------+----------+------------------+---------------------+-------------+--------------------+\n",
      "only showing top 3 rows\n",
      "\n"
     ]
    }
   ],
   "source": [
    "train_data.show(3)"
   ]
  },
  {
   "cell_type": "code",
   "execution_count": 92,
   "metadata": {},
   "outputs": [],
   "source": [
    "from pyspark.ml.regression import LinearRegression\n",
    "\n",
    "# Define the LinearRegression\n",
    "lr = LinearRegression(labelCol = 'harga', #target variable data actual\n",
    "                      featuresCol = 'predictors', #predictor hasil vectorAssembler\n",
    "                      predictionCol = 'harga_predict') #kolom baru yang menyimpan hasil prediksi"
   ]
  },
  {
   "cell_type": "markdown",
   "metadata": {},
   "source": [
    "#### 2️⃣ 🏋️‍♂️ Melatih Model\n",
    "\n",
    "Setelah mendefinisikan model linear regression, dapat melatih model pada data train"
   ]
  },
  {
   "cell_type": "code",
   "execution_count": 94,
   "metadata": {},
   "outputs": [],
   "source": [
    "model = lr.fit(train_data)"
   ]
  },
  {
   "cell_type": "markdown",
   "metadata": {},
   "source": [
    "#### 3️⃣ 🔍Menampilkan Hasil Summary dan Interpretasi Hasil"
   ]
  },
  {
   "cell_type": "code",
   "execution_count": 98,
   "metadata": {},
   "outputs": [
    {
     "name": "stdout",
     "output_type": "stream",
     "text": [
      "Coefficients: [89408993.78095956,96851936.27514121,13892010.2042854,22154944.841700613,-157453793.99205738,-271412855.6324927,51815433.256719254,-146432660.74914736,-45701543.639278725,168749312.48917338,-168749312.4891851,-304363960.96230525,118852325.953356,210172966.64795232,509215726.21113896,-305578593.5357101,52841398.76475487,-42027006.45047871]\n"
     ]
    }
   ],
   "source": [
    "# code here\n",
    "print(\"Coefficients:\", model.coefficients)"
   ]
  },
  {
   "cell_type": "code",
   "execution_count": 99,
   "metadata": {},
   "outputs": [
    {
     "data": {
      "text/plain": [
       "20884134.357347567"
      ]
     },
     "execution_count": 99,
     "metadata": {},
     "output_type": "execute_result"
    }
   ],
   "source": [
    "# code here\n",
    "model.intercept"
   ]
  },
  {
   "cell_type": "markdown",
   "metadata": {},
   "source": [
    "### [Additional] Menampilkan Keseluruhan Coefficient"
   ]
  },
  {
   "cell_type": "code",
   "execution_count": 100,
   "metadata": {},
   "outputs": [
    {
     "name": "stdout",
     "output_type": "stream",
     "text": [
      "Koefisien Model:\n",
      "Predictor       Coefficient\n",
      "-------------------------\n",
      "kamar_mandi     89408993.7810\n",
      "kamar_tidur     96851936.2751\n",
      "luas_bangunan   13892010.2043\n",
      "sertifikat_HGB - Hak Guna Bangunan 22154944.8417\n",
      "sertifikat_HP - Hak Pakai -157453793.9921\n",
      "sertifikat_HS - Hak Sewa -271412855.6325\n",
      "sertifikat_Lainnya (PPJB,Girik,Adat,dll) 51815433.2567\n",
      "sertifikat_PPJB -146432660.7491\n",
      "sertifikat_SHM - Sertifikat Hak Milik -45701543.6393\n",
      "tipe_properti_Apartemen 168749312.4892\n",
      "tipe_properti_Rumah -168749312.4892\n",
      "kota_Depok      -304363960.9623\n",
      "kota_Jakarta Barat 118852325.9534\n",
      "kota_Jakarta Pusat 210172966.6480\n",
      "kota_Jakarta Selatan 509215726.2111\n",
      "kota_Jakarta Timur -305578593.5357\n",
      "kota_Jakarta Utara 52841398.7648\n",
      "kota_Tangerang Selatan -42027006.4505\n",
      "Intercept       20884134.3573\n"
     ]
    }
   ],
   "source": [
    "# Mendapatkan nama prediktor\n",
    "encoded_cat_cols = [\"sertifikat_HGB - Hak Guna Bangunan\",\"sertifikat_HP - Hak Pakai\", \"sertifikat_HS - Hak Sewa\", \"sertifikat_Lainnya (PPJB,Girik,Adat,dll)\",\\\n",
    "                    \"sertifikat_PPJB\", \"sertifikat_SHM - Sertifikat Hak Milik\", \"tipe_properti_Apartemen\", \"tipe_properti_Rumah\", \\\n",
    "                    \"kota_Depok\", \"kota_Jakarta Barat\", \"kota_Jakarta Pusat\", \"kota_Jakarta Selatan\",\"kota_Jakarta Timur\",\"kota_Jakarta Utara\",\"kota_Tangerang Selatan\"] \n",
    "numeric_cols = [\"kamar_mandi\", \"kamar_tidur\",\"luas_bangunan\"]  \n",
    "input_cols =  numeric_cols + encoded_cat_cols\n",
    "\n",
    "# Mendapatkan koefisien dan menghubungkannya dengan nama prediktor\n",
    "coefficients = model.coefficients\n",
    "intercept = model.intercept\n",
    "\n",
    "coef_table = [(input_cols[i], coefficients[i]) for i in range(len(coefficients))]\n",
    "coef_table.append((\"Intercept\", intercept))\n",
    "\n",
    "# Menampilkan tabel\n",
    "print(\"Koefisien Model:\")\n",
    "print(\"{:<15} {:<10}\".format(\"Predictor\", \"Coefficient\"))\n",
    "print(\"-\" * 25)\n",
    "for predictor, coef in coef_table:\n",
    "    print(f\"{predictor:<15} {coef:<10.4f}\")"
   ]
  },
  {
   "cell_type": "markdown",
   "metadata": {},
   "source": [
    "**💡 Interpretasi:**\n",
    "\n",
    "- Setiap kenaikan 1m2 luas bangunan akan meningkatkan harga rumah sebesar 13892010.2043\n",
    "- Property yang dibangun di jakarta utara memiliki potensi kenaikan harga sekitar 52841398.7648"
   ]
  },
  {
   "cell_type": "markdown",
   "metadata": {},
   "source": [
    "## 🔮 Melakukan Prediksi\n",
    "\n",
    "Tujuan utama dalam membangun model machine learning adalah untuk memprediksi hasil dengan error yang rendah berdasarkan data baru. Dalam hal ini, kita akan menggunakan model Linear Regresi yang telah dilatih untuk melakukan prediksi pada dataset test, data yang belum pernah dilihat sebelumnya untuk mengevaluasi kinerja dan efektivitasnya.\n",
    "\n",
    "### Langkah-Langkah Melakukan Prediksi di PySpark"
   ]
  },
  {
   "cell_type": "markdown",
   "metadata": {},
   "source": [
    "1️⃣ **Melakukan Prediksi**:\n",
    "   Kita menggunakan fungsi `transform` untuk melakukan prediksi pada data test."
   ]
  },
  {
   "cell_type": "code",
   "execution_count": 101,
   "metadata": {},
   "outputs": [],
   "source": [
    "# Make predictions on the test data\n",
    "predictions = model.transform(test_data)"
   ]
  },
  {
   "cell_type": "markdown",
   "metadata": {},
   "source": [
    "2️⃣ **Menampilkan Hasil Prediksi**: Kita dapat menampilkan hasil prediksi bersama dengan data aktualnya."
   ]
  },
  {
   "cell_type": "code",
   "execution_count": 103,
   "metadata": {},
   "outputs": [
    {
     "name": "stdout",
     "output_type": "stream",
     "text": [
      "+-----------+-----------+-------------+--------------------+-------------+-------------+---------+----------------+-------------------+----------+------------------+---------------------+-------------+--------------------+\n",
      "|kamar_mandi|kamar_tidur|luas_bangunan|          sertifikat|tipe_properti|         kota|    harga|sertifikat_index|tipe_properti_index|kota_index|sertifikat_encoded|tipe_properti_encoded| kota_encoded|          predictors|\n",
      "+-----------+-----------+-------------+--------------------+-------------+-------------+---------+----------------+-------------------+----------+------------------+---------------------+-------------+--------------------+\n",
      "|          1|          1|           14|HGB - Hak Guna Ba...|    Apartemen|Jakarta Utara|290000000|             0.0|                0.0|       5.0|     (6,[0],[1.0])|        (2,[0],[1.0])|(7,[5],[1.0])|(18,[0,1,2,3,9,16...|\n",
      "|          1|          1|           14|Lainnya (PPJB,Gir...|    Apartemen|Jakarta Utara|290000000|             3.0|                0.0|       5.0|     (6,[3],[1.0])|        (2,[0],[1.0])|(7,[5],[1.0])|(18,[0,1,2,6,9,16...|\n",
      "|          1|          1|           14|Lainnya (PPJB,Gir...|    Apartemen|Jakarta Utara|290000000|             3.0|                0.0|       5.0|     (6,[3],[1.0])|        (2,[0],[1.0])|(7,[5],[1.0])|(18,[0,1,2,6,9,16...|\n",
      "+-----------+-----------+-------------+--------------------+-------------+-------------+---------+----------------+-------------------+----------+------------------+---------------------+-------------+--------------------+\n",
      "only showing top 3 rows\n",
      "\n"
     ]
    }
   ],
   "source": [
    "test_data.show(3)"
   ]
  },
  {
   "cell_type": "code",
   "execution_count": 102,
   "metadata": {},
   "outputs": [
    {
     "name": "stdout",
     "output_type": "stream",
     "text": [
      "+-----------+-----------+-------------+--------------------+-------------+-------------+---------+----------------+-------------------+----------+------------------+---------------------+-------------+--------------------+-------------------+\n",
      "|kamar_mandi|kamar_tidur|luas_bangunan|          sertifikat|tipe_properti|         kota|    harga|sertifikat_index|tipe_properti_index|kota_index|sertifikat_encoded|tipe_properti_encoded| kota_encoded|          predictors|      harga_predict|\n",
      "+-----------+-----------+-------------+--------------------+-------------+-------------+---------+----------------+-------------------+----------+------------------+---------------------+-------------+--------------------+-------------------+\n",
      "|          1|          1|           14|HGB - Hak Guna Ba...|    Apartemen|Jakarta Utara|290000000|             0.0|                0.0|       5.0|     (6,[0],[1.0])|        (2,[0],[1.0])|(7,[5],[1.0])|(18,[0,1,2,3,9,16...|6.453788633690729E8|\n",
      "|          1|          1|           14|Lainnya (PPJB,Gir...|    Apartemen|Jakarta Utara|290000000|             3.0|                0.0|       5.0|     (6,[3],[1.0])|        (2,[0],[1.0])|(7,[5],[1.0])|(18,[0,1,2,6,9,16...|6.750393517840915E8|\n",
      "|          1|          1|           14|Lainnya (PPJB,Gir...|    Apartemen|Jakarta Utara|290000000|             3.0|                0.0|       5.0|     (6,[3],[1.0])|        (2,[0],[1.0])|(7,[5],[1.0])|(18,[0,1,2,6,9,16...|6.750393517840915E8|\n",
      "|          1|          1|           14|Lainnya (PPJB,Gir...|    Apartemen|Jakarta Utara|300000000|             3.0|                0.0|       5.0|     (6,[3],[1.0])|        (2,[0],[1.0])|(7,[5],[1.0])|(18,[0,1,2,6,9,16...|6.750393517840915E8|\n",
      "+-----------+-----------+-------------+--------------------+-------------+-------------+---------+----------------+-------------------+----------+------------------+---------------------+-------------+--------------------+-------------------+\n",
      "only showing top 4 rows\n",
      "\n"
     ]
    }
   ],
   "source": [
    "# code here\n",
    "predictions.show(4)"
   ]
  },
  {
   "cell_type": "code",
   "execution_count": 104,
   "metadata": {},
   "outputs": [
    {
     "name": "stdout",
     "output_type": "stream",
     "text": [
      "+---------+-------------------+\n",
      "|    harga|      harga_predict|\n",
      "+---------+-------------------+\n",
      "|290000000|6.453788633690729E8|\n",
      "|290000000|6.750393517840915E8|\n",
      "|290000000|6.750393517840915E8|\n",
      "|300000000|6.750393517840915E8|\n",
      "+---------+-------------------+\n",
      "only showing top 4 rows\n",
      "\n"
     ]
    }
   ],
   "source": [
    "predictions.select('harga','harga_predict').show(4)"
   ]
  },
  {
   "cell_type": "markdown",
   "metadata": {},
   "source": [
    "## 📊 Evaluasi Model\n",
    "\n",
    "Tujuan memahami seberapa baik model kita dapat memprediksi data. Setelah melatih model dan membuat prediksi, sangat penting untuk mengevaluasi kinerjanya guna menentukan efektivitasnya. Salah satu metrik kunci untuk mengevaluasi model regresi adalah **error**.\n",
    "\n",
    "### Error\n",
    "\n",
    "Untuk melihat apakah prediksi yang dibuat menghasilkan nilai error terkecil\n",
    "  \n",
    "**Error/residual adalah selisih antara hasil prediksi dengan nilai aktual.**\n",
    "\n",
    "$$\n",
    "Error/residual = actual - prediction = y - \\hat y\n",
    "$$\n",
    "\n",
    "Terdapat beberapa nilai error yang ada :\n",
    "\n",
    "1. MAE (Mean Absolute Error): Memperlakukan error dengan lebih ringan. **Formula:**\n",
    "   $$\n",
    "   MAE = \\frac{1}{N} \\sum_{i=1}^{N} \\left | y_{i} - \\hat{y} \\right |\n",
    "   $$\n",
    "\n",
    "1. RMSE (Root Mean Square Error): Memperlakukan error dengan lebih sensitif. Ketika nilai error besar, maka nilai RMSE akan semakin besar dan sebaliknya. **Formula:**\n",
    "   $$\n",
    "   RMSE = \\sqrt{\\frac{1}{N} \\sum_{i=1}^{N} (y_{i} - \\hat{y})^{2}}\n",
    "   $$\n",
    "     \n",
    "   \n",
    "RMSE digunakan ketika model yang dibuat memuat observasi outlier. Sedangkan, MAE digunakan ketika model yang dibuat tidak memuat observasi outlier\n",
    "\n",
    "Untuk menampilkan nilai MAE dan RMSE kita dapat memanfaatkan variable `summary_hasil` yang berisi rangkuman hasil modelling.\n",
    "  "
   ]
  },
  {
   "cell_type": "code",
   "execution_count": 105,
   "metadata": {},
   "outputs": [],
   "source": [
    "summary_hasil = model.summary"
   ]
  },
  {
   "cell_type": "code",
   "execution_count": 106,
   "metadata": {},
   "outputs": [
    {
     "data": {
      "text/plain": [
       "483415812.62103844"
      ]
     },
     "execution_count": 106,
     "metadata": {},
     "output_type": "execute_result"
    }
   ],
   "source": [
    "# MAE\n",
    "summary_hasil.meanAbsoluteError"
   ]
  },
  {
   "cell_type": "code",
   "execution_count": 107,
   "metadata": {},
   "outputs": [
    {
     "data": {
      "text/plain": [
       "704687635.0882933"
      ]
     },
     "execution_count": 107,
     "metadata": {},
     "output_type": "execute_result"
    }
   ],
   "source": [
    "# RMSE\n",
    "summary_hasil.rootMeanSquaredError"
   ]
  },
  {
   "cell_type": "code",
   "execution_count": 109,
   "metadata": {},
   "outputs": [
    {
     "data": {
      "text/plain": [
       "0.680327488241768"
      ]
     },
     "execution_count": 109,
     "metadata": {},
     "output_type": "execute_result"
    }
   ],
   "source": [
    "# R-Squared\n",
    "summary_hasil.r2"
   ]
  },
  {
   "cell_type": "code",
   "execution_count": 108,
   "metadata": {},
   "outputs": [
    {
     "data": {
      "text/plain": [
       "0.6791757458054893"
      ]
     },
     "execution_count": 108,
     "metadata": {},
     "output_type": "execute_result"
    }
   ],
   "source": [
    "# Adjusted R-Squared\n",
    "summary_hasil.r2adj"
   ]
  },
  {
   "cell_type": "markdown",
   "metadata": {},
   "source": [
    "**💡 Interpretasi:**\n",
    "\n",
    "- \n",
    "- "
   ]
  },
  {
   "cell_type": "markdown",
   "metadata": {},
   "source": [
    "#### **Additional:MAPE**\n",
    "\n",
    "3. MAPE (Mean Absolute Percentage Error): Menunjukan seberapa besar penyimpangan error dalam bentuk persentase\n",
    "   $$\n",
    "   MAPE = \\frac{1}{N} \\sum_{i=1}^{N} \\frac {\\left | y_{i} - \\hat{y} \\right |} {y}\n",
    "   $$"
   ]
  },
  {
   "cell_type": "code",
   "execution_count": null,
   "metadata": {},
   "outputs": [],
   "source": [
    "# from pyspark.sql.functions import abs, col, mean\n",
    "\n",
    "# mape_df = predictions.withColumn(\n",
    "#     \"absolute_percentage_error\",\n",
    "#     abs((col(\"harga\") - col(\"harga_predict\")) / col(\"harga\")) * 100\n",
    "# )\n",
    "# mape = mape_df.select(mean(\"absolute_percentage_error\")).collect()[0][0]\n",
    "\n",
    "# print(f\"MAPE: {mape:.2f}%\")"
   ]
  }
 ],
 "metadata": {
  "kernelspec": {
   "display_name": "Python 3",
   "language": "python",
   "name": "python3"
  },
  "language_info": {
   "codemirror_mode": {
    "name": "ipython",
    "version": 3
   },
   "file_extension": ".py",
   "mimetype": "text/x-python",
   "name": "python",
   "nbconvert_exporter": "python",
   "pygments_lexer": "ipython3",
   "version": "3.11.8"
  }
 },
 "nbformat": 4,
 "nbformat_minor": 2
}
